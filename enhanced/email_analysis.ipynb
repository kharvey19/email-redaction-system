{
  "cells": [
    {
      "cell_type": "markdown",
      "metadata": {},
      "source": [
        "# Email Redaction Performance Analysis\n",
        "\n",
        "This notebook analyzes the performance metrics to generate the key insights documented in the performance summary.\n"
      ]
    },
    {
      "cell_type": "code",
      "execution_count": 27,
      "metadata": {},
      "outputs": [],
      "source": [
        "import json\n",
        "import numpy as np\n",
        "import os\n",
        "\n",
        "# Load the analytics data\n",
        "with open('output_analytics.json', 'r') as f:\n",
        "    analytics_data = json.load(f)\n",
        "\n",
        "timing_data = analytics_data['timing_data']\n"
      ]
    },
    {
      "cell_type": "markdown",
      "metadata": {},
      "source": [
        "## Performance Breakdown\n"
      ]
    },
    {
      "cell_type": "code",
      "execution_count": 28,
      "metadata": {},
      "outputs": [
        {
          "name": "stdout",
          "output_type": "stream",
          "text": [
            "Redaction: 2.2%\n",
            "Chart Generation: 11.6%\n",
            "PDF Generation: 86.3%\n"
          ]
        }
      ],
      "source": [
        "# Calculate time breakdown percentages\n",
        "time_breakdown = {\n",
        "    'Redaction': timing_data['total_redaction_time'],\n",
        "    'Chart Generation': timing_data['chart_generation_time'], \n",
        "    'PDF Generation': timing_data['pdf_generation_time']\n",
        "}\n",
        "\n",
        "total_core_time = sum(time_breakdown.values())\n",
        "bottleneck_analysis = {k: (v/total_core_time)*100 for k, v in time_breakdown.items()}\n",
        "\n",
        "for component, percentage in bottleneck_analysis.items():\n",
        "    print(f\"{component}: {percentage:.1f}%\")"
      ]
    },
    {
      "cell_type": "markdown",
      "metadata": {},
      "source": [
        "## Performance Projections\n"
      ]
    },
    {
      "cell_type": "code",
      "execution_count": 29,
      "metadata": {},
      "outputs": [
        {
          "name": "stdout",
          "output_type": "stream",
          "text": [
            "| Email Volume | Sequential Time | Parallel Time | Speedup |\n",
            "|-------------|----------------|---------------|---------|\n",
            "| 100 | 8.2s | 6.6s | 19% |\n",
            "| 1,000 | 1.3m | 1.1m | 20% |\n",
            "| 10,000 | 13.2m | 10.5m | 20% |\n"
          ]
        }
      ],
      "source": [
        "# Calculate parallel vs sequential performance for specific volumes\n",
        "individual_times = timing_data['individual_redactions']\n",
        "current_emails = len(individual_times)\n",
        "avg_time_per_email = np.mean(individual_times)\n",
        "\n",
        "def calculate_parallel_speedup(volume, cpu_cores=None):\n",
        "    if cpu_cores is None:\n",
        "        cpu_cores = os.cpu_count() or 4\n",
        "    \n",
        "    if volume <= 1:\n",
        "        return 1.0\n",
        "    \n",
        "    max_workers = min(cpu_cores, volume, 8)\n",
        "    \n",
        "    # Parallel efficiency based on worker count\n",
        "    if max_workers <= 2:\n",
        "        efficiency = 0.85\n",
        "    elif max_workers <= 4:\n",
        "        efficiency = 0.75\n",
        "    else:\n",
        "        efficiency = 0.65\n",
        "        \n",
        "    return max_workers * efficiency\n",
        "\n",
        "# Performance projections for key volumes\n",
        "cpu_cores = os.cpu_count() or 4\n",
        "print(\"| Email Volume | Sequential Time | Parallel Time | Speedup |\")\n",
        "print(\"|-------------|----------------|---------------|---------|\")\n",
        "\n",
        "for volume in [100, 1000, 10000]:\n",
        "    # Sequential time calculation\n",
        "    seq_redaction = volume * avg_time_per_email\n",
        "    seq_charts = timing_data['chart_generation_time'] * (np.log(volume) / np.log(current_emails))\n",
        "    seq_pdf = timing_data['pdf_generation_time'] * (volume / current_emails)\n",
        "    seq_total = seq_redaction + seq_charts + seq_pdf\n",
        "    \n",
        "    # Parallel time with speedup\n",
        "    speedup_factor = calculate_parallel_speedup(volume, cpu_cores)\n",
        "    par_redaction = seq_redaction / speedup_factor\n",
        "    par_total = par_redaction + seq_charts + seq_pdf * 0.8\n",
        "    \n",
        "    speedup_percent = int(((seq_total - par_total) / seq_total) * 100)\n",
        "    \n",
        "    if seq_total < 60:\n",
        "        seq_str = f\"{seq_total:.1f}s\"\n",
        "    else:\n",
        "        seq_str = f\"{seq_total/60:.1f}m\"\n",
        "        \n",
        "    if par_total < 60:\n",
        "        par_str = f\"{par_total:.1f}s\"\n",
        "    else:\n",
        "        par_str = f\"{par_total/60:.1f}m\"\n",
        "    \n",
        "    print(f\"| {volume:,} | {seq_str} | {par_str} | {speedup_percent}% |\")\n"
      ]
    }
  ],
  "metadata": {
    "language_info": {
      "name": "python"
    }
  },
  "nbformat": 4,
  "nbformat_minor": 2
}
